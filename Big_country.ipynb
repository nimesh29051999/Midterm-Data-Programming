{
 "cells": [
  {
   "cell_type": "code",
   "execution_count": 1,
   "id": "5d537e45",
   "metadata": {},
   "outputs": [
    {
     "name": "stdout",
     "output_type": "stream",
     "text": [
      "Collecting ipython-sql\n",
      "  Downloading ipython_sql-0.4.0-py3-none-any.whl (19 kB)\n",
      "Requirement already satisfied: ipython>=1.0 in /home/pruvi007/.local/lib/python3.8/site-packages (from ipython-sql) (7.29.0)\n",
      "Collecting sqlparse\n",
      "  Downloading sqlparse-0.4.2-py3-none-any.whl (42 kB)\n",
      "\u001b[K     |████████████████████████████████| 42 kB 806 kB/s eta 0:00:01\n",
      "\u001b[?25hCollecting prettytable<1\n",
      "  Downloading prettytable-0.7.2.tar.bz2 (21 kB)\n",
      "Collecting sqlalchemy>=0.6.7\n",
      "  Downloading SQLAlchemy-1.4.31-cp38-cp38-manylinux_2_5_x86_64.manylinux1_x86_64.manylinux_2_17_x86_64.manylinux2014_x86_64.whl (1.6 MB)\n",
      "\u001b[K     |████████████████████████████████| 1.6 MB 2.2 MB/s eta 0:00:01\n",
      "\u001b[?25hRequirement already satisfied: ipython-genutils>=0.1.0 in /home/pruvi007/.local/lib/python3.8/site-packages (from ipython-sql) (0.2.0)\n",
      "Requirement already satisfied: six in /usr/lib/python3/dist-packages (from ipython-sql) (1.14.0)\n",
      "Requirement already satisfied: pickleshare in /home/pruvi007/.local/lib/python3.8/site-packages (from ipython>=1.0->ipython-sql) (0.7.5)\n",
      "Requirement already satisfied: backcall in /home/pruvi007/.local/lib/python3.8/site-packages (from ipython>=1.0->ipython-sql) (0.2.0)\n",
      "Requirement already satisfied: pexpect>4.3; sys_platform != \"win32\" in /usr/lib/python3/dist-packages (from ipython>=1.0->ipython-sql) (4.6.0)\n",
      "Requirement already satisfied: traitlets>=4.2 in /home/pruvi007/.local/lib/python3.8/site-packages (from ipython>=1.0->ipython-sql) (5.1.1)\n",
      "Requirement already satisfied: decorator in /home/pruvi007/.local/lib/python3.8/site-packages (from ipython>=1.0->ipython-sql) (5.1.0)\n",
      "Requirement already satisfied: prompt-toolkit!=3.0.0,!=3.0.1,<3.1.0,>=2.0.0 in /home/pruvi007/.local/lib/python3.8/site-packages (from ipython>=1.0->ipython-sql) (3.0.22)\n",
      "Requirement already satisfied: setuptools>=18.5 in /usr/lib/python3/dist-packages (from ipython>=1.0->ipython-sql) (45.2.0)\n",
      "Requirement already satisfied: jedi>=0.16 in /home/pruvi007/.local/lib/python3.8/site-packages (from ipython>=1.0->ipython-sql) (0.18.0)\n",
      "Requirement already satisfied: pygments in /home/pruvi007/.local/lib/python3.8/site-packages (from ipython>=1.0->ipython-sql) (2.10.0)\n",
      "Requirement already satisfied: matplotlib-inline in /home/pruvi007/.local/lib/python3.8/site-packages (from ipython>=1.0->ipython-sql) (0.1.3)\n",
      "Collecting greenlet!=0.4.17; python_version >= \"3\" and (platform_machine == \"aarch64\" or (platform_machine == \"ppc64le\" or (platform_machine == \"x86_64\" or (platform_machine == \"amd64\" or (platform_machine == \"AMD64\" or (platform_machine == \"win32\" or platform_machine == \"WIN32\"))))))\n",
      "  Downloading greenlet-1.1.2-cp38-cp38-manylinux_2_17_x86_64.manylinux2014_x86_64.whl (156 kB)\n",
      "\u001b[K     |████████████████████████████████| 156 kB 3.4 MB/s eta 0:00:01\n",
      "\u001b[?25hRequirement already satisfied: wcwidth in /home/pruvi007/.local/lib/python3.8/site-packages (from prompt-toolkit!=3.0.0,!=3.0.1,<3.1.0,>=2.0.0->ipython>=1.0->ipython-sql) (0.2.5)\n",
      "Requirement already satisfied: parso<0.9.0,>=0.8.0 in /home/pruvi007/.local/lib/python3.8/site-packages (from jedi>=0.16->ipython>=1.0->ipython-sql) (0.8.2)\n",
      "Building wheels for collected packages: prettytable\n",
      "  Building wheel for prettytable (setup.py) ... \u001b[?25ldone\n",
      "\u001b[?25h  Created wheel for prettytable: filename=prettytable-0.7.2-py3-none-any.whl size=13698 sha256=01f46040ba82fc7d9a62acee1998d05fa4f309da378db7b67e5d4b9bf168ddba\n",
      "  Stored in directory: /home/pruvi007/.cache/pip/wheels/46/60/6c/bb25d05df22906786206e901e9354bb3061061191116768bee\n",
      "Successfully built prettytable\n",
      "Installing collected packages: sqlparse, prettytable, greenlet, sqlalchemy, ipython-sql\n",
      "Successfully installed greenlet-1.1.2 ipython-sql-0.4.0 prettytable-0.7.2 sqlalchemy-1.4.31 sqlparse-0.4.2\n"
     ]
    }
   ],
   "source": [
    "!pip install ipython-sql"
   ]
  },
  {
   "cell_type": "code",
   "execution_count": 2,
   "id": "fbe46e4b",
   "metadata": {},
   "outputs": [],
   "source": [
    "%load_ext sql"
   ]
  },
  {
   "cell_type": "code",
   "execution_count": 3,
   "id": "e0814d3a",
   "metadata": {},
   "outputs": [],
   "source": [
    "%sql sqlite://"
   ]
  },
  {
   "cell_type": "code",
   "execution_count": 5,
   "id": "5ee2bf3d",
   "metadata": {},
   "outputs": [
    {
     "name": "stdout",
     "output_type": "stream",
     "text": [
      " * sqlite://\n",
      "Done.\n",
      "5 rows affected.\n"
     ]
    },
    {
     "data": {
      "text/plain": [
       "[]"
      ]
     },
     "execution_count": 5,
     "metadata": {},
     "output_type": "execute_result"
    }
   ],
   "source": [
    "%%sql\n",
    "CREATE TABLE World\n",
    "(\n",
    "    name varhcar(50),\n",
    "    continent varchar(50),\n",
    "    area integer,\n",
    "    population integer,\n",
    "    gdp integer\n",
    ");\n",
    "INSERT INTO World\n",
    "Values \n",
    "('Afghanistan', 'Asia', 652230, 25500100, 20343000),\n",
    "('Albania', 'Europe', 28748, 2831741, 12960000),\n",
    "('Algeria', 'Africa', 2381741, 37100000, 188681000),\n",
    "('Andorra', 'Europe', 468, 78115, 3712000),\n",
    "('Angola', 'Africa', 1246700, 20609294, 100990000)"
   ]
  },
  {
   "cell_type": "code",
   "execution_count": 10,
   "id": "7eb5c8f8",
   "metadata": {},
   "outputs": [
    {
     "name": "stdout",
     "output_type": "stream",
     "text": [
      " * sqlite://\n",
      "(sqlite3.OperationalError) no such column: country\n",
      "[SQL: SELECT name, country, population\n",
      "FROM World\n",
      "WHERE area >= 3000000 \n",
      "    OR population >= 25000000]\n",
      "(Background on this error at: https://sqlalche.me/e/14/e3q8)\n"
     ]
    }
   ],
   "source": [
    "%%sql\n",
    "SELECT \n",
    "    name, country, population\n",
    "FROM World\n",
    "WHERE area >= 3000000 \n",
    "    OR population >= 25000000"
   ]
  }
 ],
 "metadata": {
  "kernelspec": {
   "display_name": "Python 3 (ipykernel)",
   "language": "python",
   "name": "python3"
  },
  "language_info": {
   "codemirror_mode": {
    "name": "ipython",
    "version": 3
   },
   "file_extension": ".py",
   "mimetype": "text/x-python",
   "name": "python",
   "nbconvert_exporter": "python",
   "pygments_lexer": "ipython3",
   "version": "3.8.10"
  }
 },
 "nbformat": 4,
 "nbformat_minor": 5
}
